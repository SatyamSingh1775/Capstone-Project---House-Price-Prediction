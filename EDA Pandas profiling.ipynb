{
 "cells": [
  {
   "cell_type": "code",
   "execution_count": 1,
   "id": "9454ab03-13e4-4e81-8ede-a42d22dc3c12",
   "metadata": {},
   "outputs": [
    {
     "name": "stdout",
     "output_type": "stream",
     "text": [
      "Requirement already satisfied: pandas in c:\\users\\mb511ws\\appdata\\local\\programs\\python\\python312\\lib\\site-packages (2.2.1)"
     ]
    },
    {
     "name": "stderr",
     "output_type": "stream",
     "text": [
      "  error: subprocess-exited-with-error\n",
      "  \n",
      "  python setup.py bdist_wheel did not run successfully.\n",
      "  exit code: 1\n",
      "  \n",
      "  [44 lines of output]\n",
      "  C:\\Users\\MB511WS\\AppData\\Local\\Temp\\pip-install-0puyegf2\\profiling_75ff6893106a4c84b5bce6ef1587fb5c\\setup.py:41: SetuptoolsDeprecationWarning: The test command is disabled and references to it are deprecated.\n",
      "  !!\n",
      "  \n",
      "          ********************************************************************************\n",
      "          Please remove any references to `setuptools.command.test` in all supported versions of the affected package.\n",
      "  \n",
      "          This deprecation is overdue, please update your project and remove deprecated\n",
      "          calls to avoid build errors in the future.\n",
      "          ********************************************************************************\n",
      "  \n",
      "  !!\n",
      "    from setuptools.command.test import test\n",
      "  C:\\Users\\MB511WS\\AppData\\Local\\Programs\\Python\\Python312\\Lib\\site-packages\\setuptools\\_distutils\\dist.py:261: UserWarning: Unknown distribution option: 'tests_require'\n",
      "    warnings.warn(msg)\n",
      "  C:\\Users\\MB511WS\\AppData\\Local\\Programs\\Python\\Python312\\Lib\\site-packages\\setuptools\\_distutils\\dist.py:261: UserWarning: Unknown distribution option: 'test_suite'\n",
      "    warnings.warn(msg)\n",
      "  running bdist_wheel\n",
      "  running build\n",
      "  running build_py\n",
      "  creating build\\lib.win-amd64-cpython-312\\profiling\n",
      "  copying profiling\\profiler.py -> build\\lib.win-amd64-cpython-312\\profiling\n",
      "  copying profiling\\sortkeys.py -> build\\lib.win-amd64-cpython-312\\profiling\n",
      "  copying profiling\\stats.py -> build\\lib.win-amd64-cpython-312\\profiling\n",
      "  copying profiling\\utils.py -> build\\lib.win-amd64-cpython-312\\profiling\n",
      "  copying profiling\\viewer.py -> build\\lib.win-amd64-cpython-312\\profiling\n",
      "  copying profiling\\__about__.py -> build\\lib.win-amd64-cpython-312\\profiling\n",
      "  copying profiling\\__init__.py -> build\\lib.win-amd64-cpython-312\\profiling\n",
      "  copying profiling\\__main__.py -> build\\lib.win-amd64-cpython-312\\profiling\n",
      "  creating build\\lib.win-amd64-cpython-312\\profiling\\remote\n",
      "  copying profiling\\remote\\asyncio.py -> build\\lib.win-amd64-cpython-312\\profiling\\remote\n",
      "  copying profiling\\remote\\background.py -> build\\lib.win-amd64-cpython-312\\profiling\\remote\n",
      "  copying profiling\\remote\\client.py -> build\\lib.win-amd64-cpython-312\\profiling\\remote\n",
      "  copying profiling\\remote\\gevent.py -> build\\lib.win-amd64-cpython-312\\profiling\\remote\n",
      "  copying profiling\\remote\\select.py -> build\\lib.win-amd64-cpython-312\\profiling\\remote\n",
      "  copying profiling\\remote\\__init__.py -> build\\lib.win-amd64-cpython-312\\profiling\\remote\n",
      "  creating build\\lib.win-amd64-cpython-312\\profiling\\sampling\n",
      "  copying profiling\\sampling\\samplers.py -> build\\lib.win-amd64-cpython-312\\profiling\\sampling\n",
      "  copying profiling\\sampling\\__init__.py -> build\\lib.win-amd64-cpython-312\\profiling\\sampling\n",
      "  creating build\\lib.win-amd64-cpython-312\\profiling\\tracing\n",
      "  copying profiling\\tracing\\timers.py -> build\\lib.win-amd64-cpython-312\\profiling\\tracing\n",
      "  copying profiling\\tracing\\__init__.py -> build\\lib.win-amd64-cpython-312\\profiling\\tracing\n",
      "  running build_ext\n",
      "  building 'profiling.speedup' extension\n",
      "  error: Microsoft Visual C++ 14.0 or greater is required. Get it with \"Microsoft C++ Build Tools\": https://visualstudio.microsoft.com/visual-cpp-build-tools/\n",
      "  [end of output]\n",
      "  \n",
      "  note: This error originates from a subprocess, and is likely not a problem with pip.\n",
      "  ERROR: Failed building wheel for profiling\n",
      "ERROR: Could not build wheels for profiling, which is required to install pyproject.toml-based projects\n",
      "\n",
      "[notice] A new release of pip is available: 24.0 -> 25.0.1\n",
      "[notice] To update, run: python.exe -m pip install --upgrade pip\n"
     ]
    },
    {
     "name": "stdout",
     "output_type": "stream",
     "text": [
      "\n",
      "Collecting profiling\n",
      "  Using cached profiling-0.1.3.tar.gz (36 kB)\n",
      "  Preparing metadata (setup.py): started\n",
      "  Preparing metadata (setup.py): finished with status 'done'\n",
      "Requirement already satisfied: numpy<2,>=1.26.0 in c:\\users\\mb511ws\\appdata\\local\\programs\\python\\python312\\lib\\site-packages (from pandas) (1.26.4)\n",
      "Requirement already satisfied: python-dateutil>=2.8.2 in c:\\users\\mb511ws\\appdata\\local\\programs\\python\\python312\\lib\\site-packages (from pandas) (2.8.2)\n",
      "Requirement already satisfied: pytz>=2020.1 in c:\\users\\mb511ws\\appdata\\local\\programs\\python\\python312\\lib\\site-packages (from pandas) (2024.1)\n",
      "Requirement already satisfied: tzdata>=2022.7 in c:\\users\\mb511ws\\appdata\\local\\programs\\python\\python312\\lib\\site-packages (from pandas) (2024.1)\n",
      "Collecting valuedispatch>=0.0.1 (from profiling)\n",
      "  Using cached valuedispatch-0.0.1-py3-none-any.whl\n",
      "Requirement already satisfied: click>=4.1 in c:\\users\\mb511ws\\appdata\\local\\programs\\python\\python312\\lib\\site-packages (from profiling) (8.1.7)\n",
      "Collecting click-default-group>=1.2 (from profiling)\n",
      "  Using cached click_default_group-1.2.4-py2.py3-none-any.whl.metadata (2.8 kB)\n",
      "Requirement already satisfied: six>=1.8.0 in c:\\users\\mb511ws\\appdata\\local\\programs\\python\\python312\\lib\\site-packages (from profiling) (1.16.0)\n",
      "Collecting urwid>=1.2.1 (from profiling)\n",
      "  Using cached urwid-2.6.16-py3-none-any.whl.metadata (11 kB)\n",
      "Requirement already satisfied: colorama in c:\\users\\mb511ws\\appdata\\local\\programs\\python\\python312\\lib\\site-packages (from click>=4.1->profiling) (0.4.6)\n",
      "Requirement already satisfied: typing-extensions in c:\\users\\mb511ws\\appdata\\local\\programs\\python\\python312\\lib\\site-packages (from urwid>=1.2.1->profiling) (4.12.2)\n",
      "Requirement already satisfied: wcwidth in c:\\users\\mb511ws\\appdata\\local\\programs\\python\\python312\\lib\\site-packages (from urwid>=1.2.1->profiling) (0.2.13)\n",
      "Using cached click_default_group-1.2.4-py2.py3-none-any.whl (4.1 kB)\n",
      "Using cached urwid-2.6.16-py3-none-any.whl (297 kB)\n",
      "Building wheels for collected packages: profiling\n",
      "  Building wheel for profiling (setup.py): started\n",
      "  Building wheel for profiling (setup.py): finished with status 'error'\n",
      "  Running setup.py clean for profiling\n",
      "Failed to build profiling\n"
     ]
    }
   ],
   "source": [
    "!pip install pandas profiling"
   ]
  },
  {
   "cell_type": "code",
   "execution_count": 7,
   "id": "92083837-4999-4543-bf6f-e22e259260fc",
   "metadata": {},
   "outputs": [],
   "source": [
    "import numpy as np\n",
    "import pandas as pd\n",
    "from pandas_profiling import ProfileReport"
   ]
  },
  {
   "cell_type": "code",
   "execution_count": 3,
   "id": "e0e44c10-96d0-47bc-b32c-5444a6246c2e",
   "metadata": {},
   "outputs": [],
   "source": [
    "df = pd.read_csv('gurgaon_properties_cleaned_v2.csv').drop_duplicates()"
   ]
  },
  {
   "cell_type": "code",
   "execution_count": 4,
   "id": "4180c4eb-6991-4d78-8917-e17845f3103c",
   "metadata": {},
   "outputs": [
    {
     "data": {
      "text/html": [
       "<div>\n",
       "<style scoped>\n",
       "    .dataframe tbody tr th:only-of-type {\n",
       "        vertical-align: middle;\n",
       "    }\n",
       "\n",
       "    .dataframe tbody tr th {\n",
       "        vertical-align: top;\n",
       "    }\n",
       "\n",
       "    .dataframe thead th {\n",
       "        text-align: right;\n",
       "    }\n",
       "</style>\n",
       "<table border=\"1\" class=\"dataframe\">\n",
       "  <thead>\n",
       "    <tr style=\"text-align: right;\">\n",
       "      <th></th>\n",
       "      <th>property_type</th>\n",
       "      <th>society</th>\n",
       "      <th>sector</th>\n",
       "      <th>price</th>\n",
       "      <th>price_per_sqft</th>\n",
       "      <th>area</th>\n",
       "      <th>areaWithType</th>\n",
       "      <th>bedRoom</th>\n",
       "      <th>bathroom</th>\n",
       "      <th>balcony</th>\n",
       "      <th>...</th>\n",
       "      <th>super_built_up_area</th>\n",
       "      <th>built_up_area</th>\n",
       "      <th>carpet_area</th>\n",
       "      <th>study room</th>\n",
       "      <th>servant room</th>\n",
       "      <th>store room</th>\n",
       "      <th>pooja room</th>\n",
       "      <th>others</th>\n",
       "      <th>furnishing_type</th>\n",
       "      <th>luxury_score</th>\n",
       "    </tr>\n",
       "  </thead>\n",
       "  <tbody>\n",
       "    <tr>\n",
       "      <th>0</th>\n",
       "      <td>flat</td>\n",
       "      <td>signature global park 4</td>\n",
       "      <td>sector 36</td>\n",
       "      <td>0.82</td>\n",
       "      <td>7585.0</td>\n",
       "      <td>1081.0</td>\n",
       "      <td>Super Built up area 1081(100.43 sq.m.)Carpet a...</td>\n",
       "      <td>3</td>\n",
       "      <td>2</td>\n",
       "      <td>2</td>\n",
       "      <td>...</td>\n",
       "      <td>1081.0</td>\n",
       "      <td>NaN</td>\n",
       "      <td>650.0</td>\n",
       "      <td>0</td>\n",
       "      <td>0</td>\n",
       "      <td>0</td>\n",
       "      <td>0</td>\n",
       "      <td>0</td>\n",
       "      <td>0</td>\n",
       "      <td>8</td>\n",
       "    </tr>\n",
       "    <tr>\n",
       "      <th>1</th>\n",
       "      <td>flat</td>\n",
       "      <td>smart world gems</td>\n",
       "      <td>sector 89</td>\n",
       "      <td>0.95</td>\n",
       "      <td>8600.0</td>\n",
       "      <td>1105.0</td>\n",
       "      <td>Carpet area: 1103 (102.47 sq.m.)</td>\n",
       "      <td>2</td>\n",
       "      <td>2</td>\n",
       "      <td>2</td>\n",
       "      <td>...</td>\n",
       "      <td>NaN</td>\n",
       "      <td>NaN</td>\n",
       "      <td>1103.0</td>\n",
       "      <td>1</td>\n",
       "      <td>1</td>\n",
       "      <td>0</td>\n",
       "      <td>0</td>\n",
       "      <td>0</td>\n",
       "      <td>0</td>\n",
       "      <td>38</td>\n",
       "    </tr>\n",
       "    <tr>\n",
       "      <th>2</th>\n",
       "      <td>flat</td>\n",
       "      <td>pyramid elite</td>\n",
       "      <td>sector 86</td>\n",
       "      <td>0.46</td>\n",
       "      <td>79.0</td>\n",
       "      <td>58228.0</td>\n",
       "      <td>Carpet area: 58141 (5401.48 sq.m.)</td>\n",
       "      <td>2</td>\n",
       "      <td>2</td>\n",
       "      <td>1</td>\n",
       "      <td>...</td>\n",
       "      <td>NaN</td>\n",
       "      <td>NaN</td>\n",
       "      <td>58141.0</td>\n",
       "      <td>0</td>\n",
       "      <td>0</td>\n",
       "      <td>0</td>\n",
       "      <td>0</td>\n",
       "      <td>0</td>\n",
       "      <td>0</td>\n",
       "      <td>15</td>\n",
       "    </tr>\n",
       "    <tr>\n",
       "      <th>3</th>\n",
       "      <td>flat</td>\n",
       "      <td>breez global hill view</td>\n",
       "      <td>sohna road</td>\n",
       "      <td>0.32</td>\n",
       "      <td>5470.0</td>\n",
       "      <td>585.0</td>\n",
       "      <td>Built Up area: 1000 (92.9 sq.m.)Carpet area: 5...</td>\n",
       "      <td>2</td>\n",
       "      <td>2</td>\n",
       "      <td>1</td>\n",
       "      <td>...</td>\n",
       "      <td>NaN</td>\n",
       "      <td>1000.0</td>\n",
       "      <td>585.0</td>\n",
       "      <td>0</td>\n",
       "      <td>0</td>\n",
       "      <td>0</td>\n",
       "      <td>0</td>\n",
       "      <td>0</td>\n",
       "      <td>0</td>\n",
       "      <td>49</td>\n",
       "    </tr>\n",
       "    <tr>\n",
       "      <th>4</th>\n",
       "      <td>flat</td>\n",
       "      <td>bestech park view sanskruti</td>\n",
       "      <td>sector 92</td>\n",
       "      <td>1.60</td>\n",
       "      <td>8020.0</td>\n",
       "      <td>1995.0</td>\n",
       "      <td>Super Built up area 1995(185.34 sq.m.)Built Up...</td>\n",
       "      <td>3</td>\n",
       "      <td>4</td>\n",
       "      <td>3+</td>\n",
       "      <td>...</td>\n",
       "      <td>1995.0</td>\n",
       "      <td>1615.0</td>\n",
       "      <td>1476.0</td>\n",
       "      <td>0</td>\n",
       "      <td>1</td>\n",
       "      <td>0</td>\n",
       "      <td>0</td>\n",
       "      <td>1</td>\n",
       "      <td>1</td>\n",
       "      <td>174</td>\n",
       "    </tr>\n",
       "  </tbody>\n",
       "</table>\n",
       "<p>5 rows × 23 columns</p>\n",
       "</div>"
      ],
      "text/plain": [
       "  property_type                      society      sector  price  \\\n",
       "0          flat      signature global park 4   sector 36   0.82   \n",
       "1          flat             smart world gems   sector 89   0.95   \n",
       "2          flat                pyramid elite   sector 86   0.46   \n",
       "3          flat       breez global hill view  sohna road   0.32   \n",
       "4          flat  bestech park view sanskruti   sector 92   1.60   \n",
       "\n",
       "   price_per_sqft     area                                       areaWithType  \\\n",
       "0          7585.0   1081.0  Super Built up area 1081(100.43 sq.m.)Carpet a...   \n",
       "1          8600.0   1105.0                   Carpet area: 1103 (102.47 sq.m.)   \n",
       "2            79.0  58228.0                 Carpet area: 58141 (5401.48 sq.m.)   \n",
       "3          5470.0    585.0  Built Up area: 1000 (92.9 sq.m.)Carpet area: 5...   \n",
       "4          8020.0   1995.0  Super Built up area 1995(185.34 sq.m.)Built Up...   \n",
       "\n",
       "   bedRoom  bathroom balcony  ...  super_built_up_area built_up_area  \\\n",
       "0        3         2       2  ...               1081.0           NaN   \n",
       "1        2         2       2  ...                  NaN           NaN   \n",
       "2        2         2       1  ...                  NaN           NaN   \n",
       "3        2         2       1  ...                  NaN        1000.0   \n",
       "4        3         4      3+  ...               1995.0        1615.0   \n",
       "\n",
       "  carpet_area  study room  servant room  store room  pooja room  others  \\\n",
       "0       650.0           0             0           0           0       0   \n",
       "1      1103.0           1             1           0           0       0   \n",
       "2     58141.0           0             0           0           0       0   \n",
       "3       585.0           0             0           0           0       0   \n",
       "4      1476.0           0             1           0           0       1   \n",
       "\n",
       "   furnishing_type  luxury_score  \n",
       "0                0             8  \n",
       "1                0            38  \n",
       "2                0            15  \n",
       "3                0            49  \n",
       "4                1           174  \n",
       "\n",
       "[5 rows x 23 columns]"
      ]
     },
     "execution_count": 4,
     "metadata": {},
     "output_type": "execute_result"
    }
   ],
   "source": [
    "df.head()"
   ]
  },
  {
   "cell_type": "code",
   "execution_count": 5,
   "id": "4cb9a60a-dcd6-47e1-aac7-9c06635a37df",
   "metadata": {},
   "outputs": [],
   "source": [
    "#Create the profile report object"
   ]
  },
  {
   "cell_type": "code",
   "execution_count": 8,
   "id": "9f90e44f-4db3-40a7-85db-85d30aeecc7d",
   "metadata": {},
   "outputs": [],
   "source": [
    "profile= ProfileReport(df,title = 'Pandas profiling Report', explorative =True)"
   ]
  },
  {
   "cell_type": "code",
   "execution_count": 9,
   "id": "621af8a2-150c-4c83-bf78-9852f965d064",
   "metadata": {},
   "outputs": [],
   "source": [
    "#Generate the report "
   ]
  },
  {
   "cell_type": "code",
   "execution_count": 10,
   "id": "45ecaf57-f4ca-4b44-a548-4575b76318a1",
   "metadata": {},
   "outputs": [
    {
     "data": {
      "application/vnd.jupyter.widget-view+json": {
       "model_id": "2fdfeeaaea65496d84e429fc600eacdf",
       "version_major": 2,
       "version_minor": 0
      },
      "text/plain": [
       "Summarize dataset:   0%|          | 0/5 [00:00<?, ?it/s]"
      ]
     },
     "metadata": {},
     "output_type": "display_data"
    },
    {
     "name": "stderr",
     "output_type": "stream",
     "text": [
      "C:\\Users\\MB511WS\\AppData\\Local\\Programs\\Python\\Python312\\Lib\\site-packages\\ydata_profiling\\model\\correlations.py:66: UserWarning: There was an attempt to calculate the auto correlation, but this failed.\n",
      "To hide this warning, disable the calculation\n",
      "(using `df.profile_report(correlations={\"auto\": {\"calculate\": False}})`\n",
      "If this is problematic for your use case, please report this as an issue:\n",
      "https://github.com/ydataai/ydata-profiling/issues\n",
      "(include the error message: 'could not convert string to float: 'New Property'')\n",
      "  warnings.warn(\n"
     ]
    },
    {
     "data": {
      "application/vnd.jupyter.widget-view+json": {
       "model_id": "c8c80d1e09d84bf1ac46b37198903468",
       "version_major": 2,
       "version_minor": 0
      },
      "text/plain": [
       "Generate report structure:   0%|          | 0/1 [00:00<?, ?it/s]"
      ]
     },
     "metadata": {},
     "output_type": "display_data"
    },
    {
     "data": {
      "application/vnd.jupyter.widget-view+json": {
       "model_id": "f64c2d0993404d13966e835f0b4b241a",
       "version_major": 2,
       "version_minor": 0
      },
      "text/plain": [
       "Render HTML:   0%|          | 0/1 [00:00<?, ?it/s]"
      ]
     },
     "metadata": {},
     "output_type": "display_data"
    },
    {
     "data": {
      "application/vnd.jupyter.widget-view+json": {
       "model_id": "7aa545cfd58f461bb4407ea3ad2b4333",
       "version_major": 2,
       "version_minor": 0
      },
      "text/plain": [
       "Export report to file:   0%|          | 0/1 [00:00<?, ?it/s]"
      ]
     },
     "metadata": {},
     "output_type": "display_data"
    }
   ],
   "source": [
    "profile.to_file('output_report.html')"
   ]
  },
  {
   "cell_type": "code",
   "execution_count": null,
   "id": "a7b2c355-9744-400c-9fa4-371f6da44cbc",
   "metadata": {},
   "outputs": [],
   "source": []
  }
 ],
 "metadata": {
  "kernelspec": {
   "display_name": "Python 3 (ipykernel)",
   "language": "python",
   "name": "python3"
  },
  "language_info": {
   "codemirror_mode": {
    "name": "ipython",
    "version": 3
   },
   "file_extension": ".py",
   "mimetype": "text/x-python",
   "name": "python",
   "nbconvert_exporter": "python",
   "pygments_lexer": "ipython3",
   "version": "3.12.2"
  }
 },
 "nbformat": 4,
 "nbformat_minor": 5
}
